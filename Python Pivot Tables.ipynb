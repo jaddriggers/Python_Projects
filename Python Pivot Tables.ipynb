{
 "cells": [
  {
   "cell_type": "markdown",
   "source": [
    "## Python Pivot Tables\n",
    "#### Tutorial by https://datagy.io/python-pivot-tables/"
   ],
   "metadata": {
    "collapsed": false,
    "pycharm": {
     "name": "#%% md\n"
    }
   }
  },
  {
   "cell_type": "code",
   "execution_count": 15,
   "metadata": {
    "collapsed": true
   },
   "outputs": [
    {
     "name": "stdout",
     "output_type": "stream",
     "text": [
      "        Date Region                 Type  Units  Sales\n",
      "0 2020-07-11   East  Children's Clothing   18.0    306\n",
      "1 2020-09-23  North  Children's Clothing   14.0    448\n",
      "2 2020-04-02  South     Women's Clothing   17.0    425\n",
      "3 2020-02-28   East  Children's Clothing   26.0    832\n",
      "4 2020-03-19   West     Women's Clothing    3.0     33\n"
     ]
    }
   ],
   "source": [
    "import pandas as pd\n",
    "df = pd.read_excel('sample_pivot.xlsx', parse_dates=['Date'])\n",
    "\n",
    "print(df.head())"
   ]
  },
  {
   "cell_type": "code",
   "execution_count": 23,
   "outputs": [
    {
     "name": "stdout",
     "output_type": "stream",
     "text": [
      "             Sales\n",
      "Region            \n",
      "East    408.182482\n",
      "North   438.924051\n",
      "South   432.956204\n",
      "West    452.029412\n"
     ]
    }
   ],
   "source": [
    "#default aggfunc is mean\n",
    "#aggfunc='sum'\n",
    "sales_by_region = pd.pivot_table(df, index= 'Region', values= 'Sales')\n",
    "\n",
    "print(sales_by_region)"
   ],
   "metadata": {
    "collapsed": false,
    "pycharm": {
     "name": "#%%\n"
    }
   }
  },
  {
   "cell_type": "code",
   "execution_count": 24,
   "outputs": [
    {
     "name": "stdout",
     "output_type": "stream",
     "text": [
      "                          Sales\n",
      "Type                           \n",
      "Children's Clothing  427.743860\n",
      "Men's Clothing       444.257732\n",
      "Women's Clothing     415.254717\n"
     ]
    }
   ],
   "source": [
    "sales_by_type = pd.pivot_table(df, index = 'Type', values = 'Sales')\n",
    "print(sales_by_type)"
   ],
   "metadata": {
    "collapsed": false,
    "pycharm": {
     "name": "#%%\n"
    }
   }
  },
  {
   "cell_type": "code",
   "source": [
    "sales_by_region.reset_index()\n",
    "\n"
   ],
   "metadata": {
    "collapsed": false,
    "pycharm": {
     "name": "#%%\n"
    }
   },
   "execution_count": 25,
   "outputs": [
    {
     "data": {
      "text/plain": "  Region       Sales\n0   East  408.182482\n1  North  438.924051\n2  South  432.956204\n3   West  452.029412",
      "text/html": "<div>\n<style scoped>\n    .dataframe tbody tr th:only-of-type {\n        vertical-align: middle;\n    }\n\n    .dataframe tbody tr th {\n        vertical-align: top;\n    }\n\n    .dataframe thead th {\n        text-align: right;\n    }\n</style>\n<table border=\"1\" class=\"dataframe\">\n  <thead>\n    <tr style=\"text-align: right;\">\n      <th></th>\n      <th>Region</th>\n      <th>Sales</th>\n    </tr>\n  </thead>\n  <tbody>\n    <tr>\n      <th>0</th>\n      <td>East</td>\n      <td>408.182482</td>\n    </tr>\n    <tr>\n      <th>1</th>\n      <td>North</td>\n      <td>438.924051</td>\n    </tr>\n    <tr>\n      <th>2</th>\n      <td>South</td>\n      <td>432.956204</td>\n    </tr>\n    <tr>\n      <th>3</th>\n      <td>West</td>\n      <td>452.029412</td>\n    </tr>\n  </tbody>\n</table>\n</div>"
     },
     "execution_count": 25,
     "metadata": {},
     "output_type": "execute_result"
    }
   ]
  },
  {
   "cell_type": "code",
   "execution_count": 33,
   "outputs": [
    {
     "data": {
      "text/plain": "  Region       Sales\n0   East  408.182482\n1  North  438.924051\n2  South  432.956204\n3   West  452.029412",
      "text/html": "<div>\n<style scoped>\n    .dataframe tbody tr th:only-of-type {\n        vertical-align: middle;\n    }\n\n    .dataframe tbody tr th {\n        vertical-align: top;\n    }\n\n    .dataframe thead th {\n        text-align: right;\n    }\n</style>\n<table border=\"1\" class=\"dataframe\">\n  <thead>\n    <tr style=\"text-align: right;\">\n      <th></th>\n      <th>Region</th>\n      <th>Sales</th>\n    </tr>\n  </thead>\n  <tbody>\n    <tr>\n      <th>0</th>\n      <td>East</td>\n      <td>408.182482</td>\n    </tr>\n    <tr>\n      <th>1</th>\n      <td>North</td>\n      <td>438.924051</td>\n    </tr>\n    <tr>\n      <th>2</th>\n      <td>South</td>\n      <td>432.956204</td>\n    </tr>\n    <tr>\n      <th>3</th>\n      <td>West</td>\n      <td>452.029412</td>\n    </tr>\n  </tbody>\n</table>\n</div>"
     },
     "execution_count": 33,
     "metadata": {},
     "output_type": "execute_result"
    }
   ],
   "source": [
    "avg_region_price = pd.pivot_table(df, index = 'Region', values='Sales')\n",
    "avg_region_price.reset_index()"
   ],
   "metadata": {
    "collapsed": false,
    "pycharm": {
     "name": "#%%\n"
    }
   }
  },
  {
   "cell_type": "code",
   "execution_count": 35,
   "outputs": [
    {
     "data": {
      "text/plain": "             Sales\nRegion            \nEast    408.182482\nWest    452.029412",
      "text/html": "<div>\n<style scoped>\n    .dataframe tbody tr th:only-of-type {\n        vertical-align: middle;\n    }\n\n    .dataframe tbody tr th {\n        vertical-align: top;\n    }\n\n    .dataframe thead th {\n        text-align: right;\n    }\n</style>\n<table border=\"1\" class=\"dataframe\">\n  <thead>\n    <tr style=\"text-align: right;\">\n      <th></th>\n      <th>Sales</th>\n    </tr>\n    <tr>\n      <th>Region</th>\n      <th></th>\n    </tr>\n  </thead>\n  <tbody>\n    <tr>\n      <th>East</th>\n      <td>408.182482</td>\n    </tr>\n    <tr>\n      <th>West</th>\n      <td>452.029412</td>\n    </tr>\n  </tbody>\n</table>\n</div>"
     },
     "execution_count": 35,
     "metadata": {},
     "output_type": "execute_result"
    }
   ],
   "source": [
    "#Filter by sales > 450 or < 430\n",
    "avg_region_price[(avg_region_price['Sales']> 450) | (avg_region_price['Sales'] < 430)]"
   ],
   "metadata": {
    "collapsed": false,
    "pycharm": {
     "name": "#%%\n"
    }
   }
  },
  {
   "cell_type": "markdown",
   "source": [
    "### Creating a Multi-Index Pivot Table"
   ],
   "metadata": {
    "collapsed": false
   }
  },
  {
   "cell_type": "code",
   "execution_count": 39,
   "outputs": [
    {
     "name": "stdout",
     "output_type": "stream",
     "text": [
      "                            Sales\n",
      "Region Type                      \n",
      "East   Children's Clothing  45849\n",
      "       Men's Clothing       51685\n",
      "       Women's Clothing     70229\n",
      "North  Children's Clothing  37306\n",
      "       Men's Clothing       39975\n",
      "       Women's Clothing     61419\n",
      "South  Children's Clothing  18570\n",
      "       Men's Clothing       18542\n",
      "       Women's Clothing     22203\n",
      "West   Children's Clothing  20182\n",
      "       Men's Clothing       19077\n",
      "       Women's Clothing     22217\n",
      "                              sum   len\n",
      "                            Sales Sales\n",
      "Region Type                            \n",
      "East   Children's Clothing  45849   113\n",
      "       Men's Clothing       51685   122\n",
      "       Women's Clothing     70229   176\n",
      "North  Children's Clothing  37306    85\n",
      "       Men's Clothing       39975    89\n",
      "       Women's Clothing     61419   142\n",
      "South  Children's Clothing  18570    45\n",
      "       Men's Clothing       18542    39\n",
      "       Women's Clothing     22203    53\n",
      "West   Children's Clothing  20182    42\n",
      "       Men's Clothing       19077    41\n",
      "       Women's Clothing     22217    53\n"
     ]
    }
   ],
   "source": [
    "multi_index = pd.pivot_table(df, index = ['Region', 'Type'], values = 'Sales', aggfunc = 'sum')\n",
    "print(multi_index)\n",
    "\n",
    "multi_functions = pd.pivot_table(df, index = ['Region', 'Type'], values = 'Sales', aggfunc = ['sum', len])\n",
    "print(multi_functions)"
   ],
   "metadata": {
    "collapsed": false,
    "pycharm": {
     "name": "#%%\n"
    }
   }
  },
  {
   "cell_type": "markdown",
   "source": [
    "### Adding Columns to a Pandas Pivot Table"
   ],
   "metadata": {
    "collapsed": false,
    "pycharm": {
     "name": "#%% md\n"
    }
   }
  },
  {
   "cell_type": "code",
   "execution_count": 41,
   "outputs": [
    {
     "name": "stdout",
     "output_type": "stream",
     "text": [
      "Region                 East   North   South    West\n",
      "Type                                               \n",
      "Children's Clothing  2318.0  1763.0  1017.0   789.0\n",
      "Men's Clothing       2420.0     0.0   725.0   829.0\n",
      "Women's Clothing     3372.0  2596.0  1056.0  1006.0\n"
     ]
    }
   ],
   "source": [
    "columns_example = pd.pivot_table(df, index = 'Type', columns = 'Region', values ='Units', aggfunc = 'sum')\n",
    "\n",
    "print(columns_example)"
   ],
   "metadata": {
    "collapsed": false,
    "pycharm": {
     "name": "#%%\n"
    }
   }
  },
  {
   "cell_type": "markdown",
   "source": [
    "### Plotting Pandas Pivot Tables"
   ],
   "metadata": {
    "collapsed": false,
    "pycharm": {
     "name": "#%% md\n"
    }
   }
  },
  {
   "cell_type": "code",
   "execution_count": 42,
   "outputs": [
    {
     "data": {
      "text/plain": "<AxesSubplot:xlabel='Type'>"
     },
     "execution_count": 42,
     "metadata": {},
     "output_type": "execute_result"
    },
    {
     "data": {
      "text/plain": "<Figure size 432x288 with 1 Axes>",
      "image/png": "[encoded data removed]"
     },
     "metadata": {
      "needs_background": "light"
     },
     "output_type": "display_data"
    }
   ],
   "source": [
    "columns_example.plot(kind='bar')"
   ],
   "metadata": {
    "collapsed": false,
    "pycharm": {
     "name": "#%%\n"
    }
   }
  },
  {
   "cell_type": "markdown",
   "source": [
    "### Handling Missing Data in Python Pivot Tables"
   ],
   "metadata": {
    "collapsed": false
   }
  },
  {
   "cell_type": "code",
   "execution_count": 46,
   "outputs": [
    {
     "name": "stdout",
     "output_type": "stream",
     "text": [
      "<class 'pandas.core.frame.DataFrame'>\n",
      "RangeIndex: 1000 entries, 0 to 999\n",
      "Data columns (total 5 columns):\n",
      " #   Column  Non-Null Count  Dtype         \n",
      "---  ------  --------------  -----         \n",
      " 0   Date    1000 non-null   datetime64[ns]\n",
      " 1   Region  1000 non-null   object        \n",
      " 2   Type    1000 non-null   object        \n",
      " 3   Units   911 non-null    float64       \n",
      " 4   Sales   1000 non-null   int64         \n",
      "dtypes: datetime64[ns](1), float64(1), int64(1), object(2)\n",
      "memory usage: 39.2+ KB\n",
      "None\n"
     ]
    },
    {
     "data": {
      "text/plain": "Region               East North  South  West\nType                                        \nChildren's Clothing  35.0  35.0   35.0  34.0\nMen's Clothing       35.0   N/A   34.0  35.0\nWomen's Clothing     35.0  35.0   35.0  33.0",
      "text/html": "<div>\n<style scoped>\n    .dataframe tbody tr th:only-of-type {\n        vertical-align: middle;\n    }\n\n    .dataframe tbody tr th {\n        vertical-align: top;\n    }\n\n    .dataframe thead th {\n        text-align: right;\n    }\n</style>\n<table border=\"1\" class=\"dataframe\">\n  <thead>\n    <tr style=\"text-align: right;\">\n      <th>Region</th>\n      <th>East</th>\n      <th>North</th>\n      <th>South</th>\n      <th>West</th>\n    </tr>\n    <tr>\n      <th>Type</th>\n      <th></th>\n      <th></th>\n      <th></th>\n      <th></th>\n    </tr>\n  </thead>\n  <tbody>\n    <tr>\n      <th>Children's Clothing</th>\n      <td>35.0</td>\n      <td>35.0</td>\n      <td>35.0</td>\n      <td>34.0</td>\n    </tr>\n    <tr>\n      <th>Men's Clothing</th>\n      <td>35.0</td>\n      <td>N/A</td>\n      <td>34.0</td>\n      <td>35.0</td>\n    </tr>\n    <tr>\n      <th>Women's Clothing</th>\n      <td>35.0</td>\n      <td>35.0</td>\n      <td>35.0</td>\n      <td>33.0</td>\n    </tr>\n  </tbody>\n</table>\n</div>"
     },
     "execution_count": 46,
     "metadata": {},
     "output_type": "execute_result"
    }
   ],
   "source": [
    "print(df.info())\n",
    "\n",
    "pd.pivot_table(df, index = 'Type', values = 'Units', columns = 'Region', aggfunc = 'max')\n",
    "#Remove NaN values with fill_value\n",
    "pd.pivot_table(df, index = 'Type', values = 'Units', columns = 'Region', aggfunc = 'max', fill_value = 'N/A')"
   ],
   "metadata": {
    "collapsed": false,
    "pycharm": {
     "name": "#%%\n"
    }
   }
  },
  {
   "cell_type": "markdown",
   "source": [
    "### Adding Totals for Rows and Columns to Pandas Pivot Tables"
   ],
   "metadata": {
    "collapsed": false,
    "pycharm": {
     "name": "#%% md\n"
    }
   }
  },
  {
   "cell_type": "code",
   "execution_count": 47,
   "outputs": [
    {
     "data": {
      "text/plain": "Region               East North South  West Total\nType                                             \nChildren's Clothing  35.0  35.0  35.0  34.0  35.0\nMen's Clothing       35.0   N/A  34.0  35.0  35.0\nWomen's Clothing     35.0  35.0  35.0  33.0  35.0\nTotal                35.0  35.0  35.0  35.0  35.0",
      "text/html": "<div>\n<style scoped>\n    .dataframe tbody tr th:only-of-type {\n        vertical-align: middle;\n    }\n\n    .dataframe tbody tr th {\n        vertical-align: top;\n    }\n\n    .dataframe thead th {\n        text-align: right;\n    }\n</style>\n<table border=\"1\" class=\"dataframe\">\n  <thead>\n    <tr style=\"text-align: right;\">\n      <th>Region</th>\n      <th>East</th>\n      <th>North</th>\n      <th>South</th>\n      <th>West</th>\n      <th>Total</th>\n    </tr>\n    <tr>\n      <th>Type</th>\n      <th></th>\n      <th></th>\n      <th></th>\n      <th></th>\n      <th></th>\n    </tr>\n  </thead>\n  <tbody>\n    <tr>\n      <th>Children's Clothing</th>\n      <td>35.0</td>\n      <td>35.0</td>\n      <td>35.0</td>\n      <td>34.0</td>\n      <td>35.0</td>\n    </tr>\n    <tr>\n      <th>Men's Clothing</th>\n      <td>35.0</td>\n      <td>N/A</td>\n      <td>34.0</td>\n      <td>35.0</td>\n      <td>35.0</td>\n    </tr>\n    <tr>\n      <th>Women's Clothing</th>\n      <td>35.0</td>\n      <td>35.0</td>\n      <td>35.0</td>\n      <td>33.0</td>\n      <td>35.0</td>\n    </tr>\n    <tr>\n      <th>Total</th>\n      <td>35.0</td>\n      <td>35.0</td>\n      <td>35.0</td>\n      <td>35.0</td>\n      <td>35.0</td>\n    </tr>\n  </tbody>\n</table>\n</div>"
     },
     "execution_count": 47,
     "metadata": {},
     "output_type": "execute_result"
    }
   ],
   "source": [
    "pd.pivot_table(df, index= 'Type', values= 'Units', columns='Region', aggfunc='max', fill_value='N/A', margins=True, margins_name='Total')"
   ],
   "metadata": {
    "collapsed": false,
    "pycharm": {
     "name": "#%%\n"
    }
   }
  }
 ],
 "metadata": {
  "kernelspec": {
   "name": "python3",
   "language": "python",
   "display_name": "Python 3"
  },
  "language_info": {
   "codemirror_mode": {
    "name": "ipython",
    "version": 2
   },
   "file_extension": ".py",
   "mimetype": "text/x-python",
   "name": "python",
   "nbconvert_exporter": "python",
   "pygments_lexer": "ipython2",
   "version": "2.7.6"
  }
 },
 "nbformat": 4,
 "nbformat_minor": 0
}